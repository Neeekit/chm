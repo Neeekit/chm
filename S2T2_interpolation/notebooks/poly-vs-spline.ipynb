{
 "cells": [
  {
   "cell_type": "code",
   "execution_count": null,
   "metadata": {},
   "outputs": [],
   "source": [
    "import numpy as np\n",
    "%matplotlib notebook\n",
    "import matplotlib.pyplot as plt\n",
    "from scipy.interpolate import CubicSpline"
   ]
  },
  {
   "cell_type": "markdown",
   "metadata": {},
   "source": [
    "### Пример 1.\n",
    "Простая функция: равна нулю везде, кроме нуля"
   ]
  },
  {
   "cell_type": "code",
   "execution_count": null,
   "metadata": {},
   "outputs": [],
   "source": [
    "n = 9\n",
    "x = np.arange(-n//2+1, n//2+1)\n",
    "xx = np.linspace(min(x), max(x), (n-1)*10+1)\n",
    "y = x*0\n",
    "y[n//2] = 1"
   ]
  },
  {
   "cell_type": "markdown",
   "metadata": {},
   "source": [
    "Интерполируем полиномом и сплайном"
   ]
  },
  {
   "cell_type": "code",
   "execution_count": null,
   "metadata": {},
   "outputs": [],
   "source": [
    "a = np.polyfit(x, y, deg=n-1)\n",
    "P = np.poly1d(a)\n",
    "yy1 = P(xx)\n",
    "\n",
    "yy2 = CubicSpline(x, y)(xx)"
   ]
  },
  {
   "cell_type": "code",
   "execution_count": null,
   "metadata": {},
   "outputs": [],
   "source": [
    "plt.figure()\n",
    "plt.plot(xx, yy1, 'c.:', label='Polynomial')\n",
    "plt.plot(xx, yy2, 'y.:', label='Spline')\n",
    "plt.plot(x, y, 'k*')\n",
    "plt.legend();"
   ]
  },
  {
   "cell_type": "markdown",
   "metadata": {},
   "source": [
    "### Пример 2.\n",
    "Полином 5-го порядка: x^5 + 2x^4 + 3x^3 + 4x^2 + 5x + 6"
   ]
  },
  {
   "cell_type": "code",
   "execution_count": null,
   "metadata": {},
   "outputs": [],
   "source": [
    "n = 9\n",
    "x = np.arange(-n//2+1, n//2+1)\n",
    "xx = np.linspace(min(x), max(x), (n-1)*10+1)\n",
    "\n",
    "Q = np.poly1d(np.arange(6)+1)\n",
    "\n",
    "y = Q(x)"
   ]
  },
  {
   "cell_type": "markdown",
   "metadata": {},
   "source": [
    "Интерполируем полиномом и сплайном"
   ]
  },
  {
   "cell_type": "code",
   "execution_count": null,
   "metadata": {},
   "outputs": [],
   "source": [
    "yy0 = Q(xx)\n",
    "\n",
    "a = np.polyfit(x, y, deg=n-1)\n",
    "P = np.poly1d(a)\n",
    "yy1 = P(xx)\n",
    "\n",
    "yy2 = CubicSpline(x, y)(xx)"
   ]
  },
  {
   "cell_type": "code",
   "execution_count": null,
   "metadata": {},
   "outputs": [],
   "source": [
    "fig, (ax1, ax2) = plt.subplots(1, 2,figsize=(9,5))\n",
    "ax1.plot(xx, yy0, 'k-', label='Exact')\n",
    "ax1.plot(xx, yy1, 'c.:', label='Polynomial')\n",
    "ax1.plot(xx, yy2, 'y.:', label='Spline')\n",
    "ax1.plot(x, y, 'k*')\n",
    "ax1.legend()\n",
    "\n",
    "ax2.plot(xx, -np.log10(np.abs(yy0-yy1)), 'c.-', label='Polynomial accuracy')\n",
    "ax2.plot(xx, -np.log10(np.abs(yy0-yy2)), 'y.-', label='Spline accuracy')\n",
    "ax2.legend();"
   ]
  },
  {
   "cell_type": "code",
   "execution_count": null,
   "metadata": {},
   "outputs": [],
   "source": []
  }
 ],
 "metadata": {
  "kernelspec": {
   "display_name": "Python 3",
   "language": "python",
   "name": "python3"
  },
  "language_info": {
   "codemirror_mode": {
    "name": "ipython",
    "version": 3
   },
   "file_extension": ".py",
   "mimetype": "text/x-python",
   "name": "python",
   "nbconvert_exporter": "python",
   "pygments_lexer": "ipython3",
   "version": "3.7.6"
  }
 },
 "nbformat": 4,
 "nbformat_minor": 4
}
